{
 "cells": [
  {
   "cell_type": "markdown",
   "metadata": {},
   "source": [
    "# Jupyter Notebook GIS demo\n",
    "\n",
    "This notebook includes the code shown in Figure 3 and Section 4 of Boeing & Arribas-Bel (2020)."
   ]
  },
  {
   "cell_type": "code",
   "execution_count": null,
   "metadata": {},
   "outputs": [],
   "source": [
    "import contextily as cx\n",
    "import geopandas as gpd"
   ]
  },
  {
   "cell_type": "markdown",
   "metadata": {},
   "source": [
    "Load a shapefile of california census tracts as a GeoDataFrame:"
   ]
  },
  {
   "cell_type": "code",
   "execution_count": null,
   "metadata": {},
   "outputs": [],
   "source": [
    "gdf = gpd.read_file(\"./tl_2019_06_tract/\")\n",
    "gdf.shape # output GeoDataFrame count of rows, columns"
   ]
  },
  {
   "cell_type": "markdown",
   "metadata": {},
   "source": [
    "Filter GeoDataFrame to retain only tracts in Southern California counties:"
   ]
  },
  {
   "cell_type": "code",
   "execution_count": null,
   "metadata": {},
   "outputs": [],
   "source": [
    "socal = ['025', '029', '037', '059', '065', '071', '073', '079', '083', '111']\n",
    "gdf = gdf[gdf['COUNTYFP'].isin(socal)]\n",
    "gdf.shape"
   ]
  },
  {
   "cell_type": "markdown",
   "metadata": {},
   "source": [
    "Dissolve the tracts into counties, summing numerical field, then project the counties to the CRS of the California State Plane Coordinate System zone 5:"
   ]
  },
  {
   "cell_type": "code",
   "execution_count": null,
   "metadata": {},
   "outputs": [],
   "source": [
    "counties = gdf.dissolve(by='COUNTYFP', aggfunc='sum')\n",
    "counties = counties.to_crs('EPSG:3497')"
   ]
  },
  {
   "cell_type": "markdown",
   "metadata": {},
   "source": [
    "Plot a choropleth map of the data, with counties colored by land area ($km^2$):"
   ]
  },
  {
   "cell_type": "code",
   "execution_count": null,
   "metadata": {},
   "outputs": [],
   "source": [
    "counties['ALAND'] = counties['ALAND'] / 1e6 # convert m^2 to km^2\n",
    "ax = counties.plot(column='ALAND', cmap='viridis', edgecolor='k', alpha=0.7, legend=True)\n",
    "cx.add_basemap(ax, crs=counties.crs.to_string()) # add basemap with contextily\n",
    "_ = ax.axis('off')"
   ]
  },
  {
   "cell_type": "code",
   "execution_count": null,
   "metadata": {},
   "outputs": [],
   "source": []
  }
 ],
 "metadata": {
  "kernelspec": {
   "display_name": "Python 3",
   "language": "python",
   "name": "python3"
  },
  "language_info": {
   "codemirror_mode": {
    "name": "ipython",
    "version": 3
   },
   "file_extension": ".py",
   "mimetype": "text/x-python",
   "name": "python",
   "nbconvert_exporter": "python",
   "pygments_lexer": "ipython3",
   "version": "3.8.6"
  }
 },
 "nbformat": 4,
 "nbformat_minor": 4
}
